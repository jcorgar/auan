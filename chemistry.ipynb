{
 "cells": [
  {
   "cell_type": "code",
   "execution_count": 1,
   "id": "6103945d",
   "metadata": {},
   "outputs": [],
   "source": [
    "import pandas as pd\n",
    "import numpy as np\n",
    "import rdkit"
   ]
  },
  {
   "cell_type": "code",
   "execution_count": null,
   "id": "5b8c6f0a",
   "metadata": {},
   "outputs": [],
   "source": [
    "# Function that takes and return morgan fingerprints\n",
    "def get_morgan_fingerprint(smiles, radius=2, n_bits=2048):\n",
    "    mol = rdkit.Chem.MolFromSmiles(smiles)\n",
    "    if mol is not None:\n",
    "        fingerprint = rdkit.Chem.AllChem.GetMorganFingerprintAsBitVect(mol, radius, nBits=n_bits)\n",
    "        return fingerprint\n",
    "    return None"
   ]
  },
  {
   "cell_type": "code",
   "execution_count": 4,
   "id": "77169fa1",
   "metadata": {},
   "outputs": [
    {
     "ename": "AttributeError",
     "evalue": "module 'rdkit.Chem' has no attribute 'AllChem'",
     "output_type": "error",
     "traceback": [
      "\u001b[1;31m---------------------------------------------------------------------------\u001b[0m",
      "\u001b[1;31mAttributeError\u001b[0m                            Traceback (most recent call last)",
      "Cell \u001b[1;32mIn[4], line 1\u001b[0m\n\u001b[1;32m----> 1\u001b[0m \u001b[43mget_morgan_fingerprint\u001b[49m\u001b[43m(\u001b[49m\u001b[38;5;124;43m'\u001b[39;49m\u001b[38;5;124;43mc1ccccc1\u001b[39;49m\u001b[38;5;124;43m'\u001b[39;49m\u001b[43m)\u001b[49m\n",
      "Cell \u001b[1;32mIn[2], line 5\u001b[0m, in \u001b[0;36mget_morgan_fingerprint\u001b[1;34m(smiles, radius, n_bits)\u001b[0m\n\u001b[0;32m      3\u001b[0m mol \u001b[38;5;241m=\u001b[39m rdkit\u001b[38;5;241m.\u001b[39mChem\u001b[38;5;241m.\u001b[39mMolFromSmiles(smiles)\n\u001b[0;32m      4\u001b[0m \u001b[38;5;28;01mif\u001b[39;00m mol \u001b[38;5;129;01mis\u001b[39;00m \u001b[38;5;129;01mnot\u001b[39;00m \u001b[38;5;28;01mNone\u001b[39;00m:\n\u001b[1;32m----> 5\u001b[0m     fingerprint \u001b[38;5;241m=\u001b[39m \u001b[43mrdkit\u001b[49m\u001b[38;5;241;43m.\u001b[39;49m\u001b[43mChem\u001b[49m\u001b[38;5;241;43m.\u001b[39;49m\u001b[43mAllChem\u001b[49m\u001b[38;5;241m.\u001b[39mGetMorganFingerprintAsBitVect(mol, radius, nBits\u001b[38;5;241m=\u001b[39mn_bits)\n\u001b[0;32m      6\u001b[0m     \u001b[38;5;28;01mreturn\u001b[39;00m fingerprint\n\u001b[0;32m      7\u001b[0m \u001b[38;5;28;01mreturn\u001b[39;00m \u001b[38;5;28;01mNone\u001b[39;00m\n",
      "\u001b[1;31mAttributeError\u001b[0m: module 'rdkit.Chem' has no attribute 'AllChem'"
     ]
    }
   ],
   "source": [
    "get_morgan_fingerprint('c1ccccc1')"
   ]
  },
  {
   "cell_type": "code",
   "execution_count": null,
   "id": "4c931a09",
   "metadata": {},
   "outputs": [],
   "source": []
  }
 ],
 "metadata": {
  "kernelspec": {
   "display_name": "Python 3",
   "language": "python",
   "name": "python3"
  },
  "language_info": {
   "codemirror_mode": {
    "name": "ipython",
    "version": 3
   },
   "file_extension": ".py",
   "mimetype": "text/x-python",
   "name": "python",
   "nbconvert_exporter": "python",
   "pygments_lexer": "ipython3",
   "version": "3.11.9"
  }
 },
 "nbformat": 4,
 "nbformat_minor": 5
}
