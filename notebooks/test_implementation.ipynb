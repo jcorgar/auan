{
 "cells": [
  {
   "cell_type": "markdown",
   "metadata": {},
   "source": [
    "# Test Drug-Target Interaction Prediction Implementation\n",
    "\n",
    "This notebook tests the implementation of the drug-target interaction prediction model with explainability features."
   ]
  },
  {
   "cell_type": "code",
   "execution_count": null,
   "metadata": {},
   "outputs": [],
   "source": [
    "import sys\n",
    "import os\n",
    "import torch\n",
    "import numpy as np\n",
    "import pandas as pd\n",
    "\n",
    "# Add parent directory to path for imports\n",
    "sys.path.append(os.path.dirname(os.path.dirname(os.path.abspath(''))))\n",
    "\n",
    "from utils.protein_embeddings import ProteinEmbedder\n",
    "from utils.data_utils import load_drug_target_data, preprocess_drug_target_data\n",
    "from utils.molecular_graphs import smiles_to_graph\n",
    "from models.dti_model import create_dti_model\n",
    "from models.explainable_dti import create_explainable_dti_model, GradientExplainer"
   ]
  },
  {
   "cell_type": "markdown",
   "metadata": {},
   "source": [
    "## Test Protein Embeddings"
   ]
  },
  {
   "cell_type": "code",
   "execution_count": null,
   "metadata": {},
   "outputs": [],
   "source": [
    "# Test protein embedding\n",
    "protein_embedder = ProteinEmbedder(\"esm\")\n",
    "sequence = \"MKTVRQERLKSIVRILERSKEPVSGAQLAEELSVSRQVIVQDIAYLRSLGYNIVATPRGYVLAGG\"\n",
    "embedding = protein_embedder.get_embedding(sequence)\n",
    "print(f\"Protein embedding shape: {embedding.shape}\")\n",
    "print(f\"Protein embedding sample values: {embedding[:5]}\")"
   ]
  },
  {
   "cell_type": "markdown",
   "metadata": {},
   "source": [
    "## Test Drug Feature Generation"
   ]
  },
  {
   "cell_type": "code",
   "execution_count": null,
   "metadata": {},
   "outputs": [],
   "source": [
    "from utils.data_utils import smiles_to_morgan_fingerprint\n",
    "\n",
    "# Test Morgan fingerprint generation\n",
    "smiles = \"CCO\"  # Ethanol\n",
    "fingerprint = smiles_to_morgan_fingerprint(smiles)\n",
    "print(f\"Morgan fingerprint shape: {fingerprint.shape}\")\n",
    "print(f\"Morgan fingerprint sample values: {fingerprint[:10]}\")"
   ]
  },
  {
   "cell_type": "markdown",
   "metadata": {},
   "source": [
    "## Test Molecular Graph Generation"
   ]
  },
  {
   "cell_type": "code",
   "execution_count": null,
   "metadata": {},
   "outputs": [],
   "source": [
    "# Test molecular graph generation\n",
    "smiles = \"CCO\"  # Ethanol\n",
    "graph = smiles_to_graph(smiles)\n",
    "print(f\"Graph object: {graph}\")\n",
    "if graph is not None:\n",
    "    print(f\"Number of nodes: {graph.x.shape[0]}\")\n",
    "    print(f\"Node features shape: {graph.x.shape}\")\n",
    "    print(f\"Number of edges: {graph.edge_index.shape[1]}\")\n",
    "    print(f\"Edge features shape: {graph.edge_attr.shape}\")"
   ]
  },
  {
   "cell_type": "markdown",
   "metadata": {},
   "source": [
    "## Test Data Loading and Preprocessing"
   ]
  },
  {
   "cell_type": "code",
   "execution_count": null,
   "metadata": {},
   "outputs": [],
   "source": [
    "# Test data loading\n",
    "df = load_drug_target_data(\"../data/sample_data.csv\")\n",
    "print(f\"Data shape: {df.shape}\")\n",
    "print(df.head())"
   ]
  },
  {
   "cell_type": "code",
   "execution_count": null,
   "metadata": {},
   "outputs": [],
   "source": [
    "# Test data preprocessing\n",
    "drug_features, protein_features, labels = preprocess_drug_target_data(df, protein_model_type=\"esm\")\n",
    "print(f\"Drug features shape: {drug_features.shape}\")\n",
    "print(f\"Protein features shape: {protein_features.shape}\n",
    "print(f\"Labels shape: {labels.shape}\")\n",
    "print(f\"Labels: {labels}\")"
   ]
  },
  {
   "cell_type": "markdown",
   "metadata": {},
   "source": [
    "## Test Model Creation and Forward Pass"
   ]
  },
  {
   "cell_type": "code",
   "execution_count": null,
   "metadata": {},
   "outputs": [],
   "source": [
    "# Test model creation\n",
    "device = torch.device('cuda' if torch.cuda.is_available() else 'cpu')\n",
    "print(f\"Using device: {device}\")\n",
    "\n",
    "# Create standard DTI model\n",
    "model = create_dti_model(\n",
    "    model_type=\"fingerprint\",\n",
    "    drug_input_dim=2048,\n",
    "    protein_input_dim=320,\n",
    "    drug_hidden_dim=128,\n",
    "    protein_hidden_dim=128,\n",
    "    drug_output_dim=64,\n",
    "    protein_output_dim=64,\n",
    "    combined_dim=128,\n",
    "    num_classes=2\n",
    ")\n",
    "model = model.to(device)\n",
    "print(f\"Standard DTI model: {model}\")"
   ]
  },
  {
   "cell_type": "code",
   "execution_count": null,
   "metadata": {},
   "outputs": [],
   "source": [
    "# Test forward pass with standard model\n",
    "drug_tensor = torch.FloatTensor(drug_features[:5]).to(device)\n",
    "protein_tensor = torch.FloatTensor(protein_features[:5]).to(device)\n",
    "\n",
    "with torch.no_grad():\n",
    "    model.eval()\n",
    "    outputs = model(drug_tensor, protein_tensor)\n",
    "    print(f\"Model outputs shape: {outputs.shape}\")\n",
    "    print(f\"Sample outputs: {outputs}\")"
   ]
  },
  {
   "cell_type": "code",
   "execution_count": null,
   "metadata": {},
   "outputs": [],
   "source": [
    "# Test explainable model creation\n",
    "explainable_model = create_explainable_dti_model(\n",
    "    model_type=\"fingerprint\",\n",
    "    drug_input_dim=2048,\n",
    "    protein_input_dim=320,\n",
    "    drug_hidden_dim=128,\n",
    "    protein_hidden_dim=128,\n",
    "    drug_output_dim=64,\n",
    "    protein_output_dim=64,\n",
    "    combined_dim=128,\n",
    "    num_classes=2\n",
    ")\n",
    "explainable_model = explainable_model.to(device)\n",
    "print(f\"Explainable DTI model: {explainable_model}\")"
   ]
  },
  {
   "cell_type": "code",
   "execution_count": null,
   "metadata": {},
   "outputs": [],
   "source": [
    "# Test forward pass with explainable model\n",
    "with torch.no_grad():\n",
    "    explainable_model.eval()\n",
    "    outputs = explainable_model(drug_tensor, protein_tensor)\n",
    "    print(f\"Explainable model outputs shape: {outputs.shape}\")\n",
    "    print(f\"Sample outputs: {outputs}\")\n",
    "    \n",
    "    # Get attention weights\n",
    "    drug_weights, protein_weights = explainable_model.get_attention_weights()\n",
    "    if drug_weights is not None:\n",
    "        print(f\"Drug attention weights shape: {drug_weights.shape}\")\n",
    "        print(f\"Protein attention weights shape: {protein_weights.shape}\")"
   ]
  },
  {
   "cell_type": "markdown",
   "metadata": {},
   "source": [
    "## Test Gradient-based Explanation"
   ]
  },
  {
   "cell_type": "code",
   "execution_count": null,
   "metadata": {},
   "outputs": [],
   "source": [
    "# Test gradient-based explanation\n",
    "explainer = GradientExplainer(explainable_model)\n",
    "\n",
    "drug_grads, protein_grads = explainer.compute_gradients(\n",
    "    drug_tensor, protein_tensor, target_class=1\n",
    ")\n",
    "print(f\"Drug gradients shape: {drug_grads.shape}\")\n",
    "print(f\"Protein gradients shape: {protein_grads.shape}\")\n",
    "\n",
    "# Compute saliency maps\n",
    "drug_saliency, protein_saliency = explainer.compute_saliency_map(\n",
    "    drug_tensor, protein_tensor, target_class=1\n",
    ")\n",
    "print(f\"Drug saliency map shape: {drug_saliency.shape}\")\n",
    "print(f\"Protein saliency map shape: {protein_saliency.shape}\")"
   ]
  },
  {
   "cell_type": "markdown",
   "metadata": {},
   "source": [
    "## Summary\n",
    "\n",
    "All components of the drug-target interaction prediction system have been tested successfully:\n",
    "\n",
    "1. Protein sequence embedding generation using ESM\n",
    "2. Drug feature generation (Morgan fingerprints)\n",
    "3. Molecular graph generation\n",
    "4. Data loading and preprocessing\n",
    "5. Model creation (standard and explainable)\n",
    "6. Forward passes through models\n",
    "7. Attention mechanism in explainable model\n",
    "8. Gradient-based explanation features\n",
    "\n",
    "The implementation is working correctly and ready for training with real data."
   ]
  }
 ],
 "metadata": {
  "kernelspec": {
   "display_name": "Python 3",
   "language": "python",
   "name": "python3"
  },
  "language_info": {
   "codemirror_mode": {
    "name": "ipython",
    "version": 3
   },
   "file_extension": ".py",
   "mimetype": "text/x-python",
   "name": "python",
   "nbconvert_exporter": "python",
   "pygments_lexer": "ipython3",
   "version": "3.8.5"
  }
 },
 "nbformat": 4,
 "nbformat_minor": 4
}